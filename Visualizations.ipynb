{
 "cells": [
  {
   "cell_type": "code",
   "execution_count": null,
   "id": "512a4208",
   "metadata": {},
   "outputs": [],
   "source": [
    "!pip install panel\n",
    "!pip install ipywidgets\n",
    "!pip install plotly\n",
    "!pip install pandas"
   ]
  },
  {
   "cell_type": "code",
   "execution_count": null,
   "id": "a94c7c41",
   "metadata": {},
   "outputs": [],
   "source": [
    "import pandas as pd\n",
    "import plotly.express as px\n",
    "import panel as pn\n",
    "pn.extension()\n",
    "from ipywidgets import interactive\n",
    "import ipywidgets as widgets"
   ]
  },
  {
   "cell_type": "code",
   "execution_count": null,
   "id": "4f1ece19",
   "metadata": {},
   "outputs": [],
   "source": [
    "url = 'https://raw.githubusercontent.com/JustynaWitulska/Test-repo/main/results_robust_tunned.csv'\n",
    "df = pd.read_csv(url)\n",
    "\n",
    "df['N'] = df['n1'] + df['n2']\n",
    "df['change point'] = df['n1']/df['N']\n",
    "\n",
    "# Sample size widget\n",
    "N_list = list(df['N'].unique())\n",
    "N_dropdown = widgets.Dropdown(\n",
    "    options=N_list,\n",
    "    value=N_list[0],\n",
    "    description='Sample size: ',\n",
    "    disabled=False)\n",
    "\n",
    "# Changepoint widget\n",
    "Changepoint_list = list(df['change point'].unique())\n",
    "Changepoint_dropdown = widgets.Dropdown(\n",
    "    options=Changepoint_list,\n",
    "    value=Changepoint_list[0],\n",
    "    description='Change point: ',\n",
    "    disabled=False)\n",
    "\n",
    "# Changepoint widget\n",
    "Alpha_list = list(df['alpha'].unique())\n",
    "Alpha_dropdown = widgets.Dropdown(\n",
    "    options=Alpha_list,\n",
    "    value=Alpha_list[0],\n",
    "    description='alpha: ',\n",
    "    disabled=False)\n",
    "\n",
    "# Output\n",
    "report_output = widgets.Output()\n",
    "display(report_output)\n",
    "\n",
    "# Update figures\n",
    "def filter_function(N, alpha, changepoint):\n",
    "    df_plot = df[(df.alpha==alpha) & (df['change point']==changepoint) & (df.N==N)]\n",
    "    df_plot = pd.melt(df_plot, id_vars=['gamma2'], value_vars=['OLS original', 'OLS robust', 'OLS robust tunned',\n",
    "                                                               'ICSS original', 'ICSS robust', 'ICSS robust tunned'])\n",
    "    df_plot.loc[:,'gamma2'] = df_plot['gamma2'].apply(lambda x: str(x))\n",
    "\n",
    "    with report_output:\n",
    "        report_output.clear_output()\n",
    "\n",
    "        fig = px.box(df_plot, x='gamma2', y='value', color='variable')\n",
    "        fig.add_hline(y=int(N*changepoint), line_color=\"black\", opacity=0.5) #line_dash=\"dash\",\n",
    "        fig.update_layout(legend=dict(\n",
    "            orientation=\"h\",\n",
    "            yanchor=\"bottom\",\n",
    "            y=1.02,\n",
    "            xanchor=\"right\",\n",
    "            x=1\n",
    "        ))\n",
    "        fig.show()\n",
    "\n",
    "\n",
    "interactive(filter_function, N=N_list, alpha=Alpha_list, changepoint=Changepoint_list)"
   ]
  }
 ],
 "metadata": {
  "kernelspec": {
   "display_name": "Python 3 (ipykernel)",
   "language": "python",
   "name": "python3"
  },
  "language_info": {
   "codemirror_mode": {
    "name": "ipython",
    "version": 3
   },
   "file_extension": ".py",
   "mimetype": "text/x-python",
   "name": "python",
   "nbconvert_exporter": "python",
   "pygments_lexer": "ipython3",
   "version": "3.10.8"
  }
 },
 "nbformat": 4,
 "nbformat_minor": 5
}
